{
 "cells": [
  {
   "cell_type": "markdown",
   "metadata": {},
   "source": [
    "Project title"
   ]
  },
  {
   "cell_type": "code",
   "execution_count": 34,
   "metadata": {},
   "outputs": [
    {
     "name": "stderr",
     "output_type": "stream",
     "text": [
      "/anaconda3/lib/python3.6/site-packages/IPython/core/interactiveshell.py:2785: DtypeWarning: Columns (52) have mixed types. Specify dtype option on import or set low_memory=False.\n",
      "  interactivity=interactivity, compiler=compiler, result=result)\n",
      "/anaconda3/lib/python3.6/site-packages/ipykernel_launcher.py:17: SettingWithCopyWarning: \n",
      "A value is trying to be set on a copy of a slice from a DataFrame\n",
      "\n",
      "See the caveats in the documentation: http://pandas.pydata.org/pandas-docs/stable/indexing.html#indexing-view-versus-copy\n"
     ]
    }
   ],
   "source": [
    "#Importing the libraries\n",
    "import numpy as np\n",
    "import matplotlib.pyplot as plt\n",
    "import pandas as pd\n",
    "\n",
    "#Import and Clean Data\n",
    "data_df = pd.read_csv('season2009.csv')\n",
    "\n",
    "#Questionable columns\n",
    "##PassOutcome, AirYards, posteam_timeouts_pre, HomeTimeouts_Remaining_Pre, AwayTimeouts_Remaining_Pre, HomeTimeouts_Remaining_post, AwayTimeouts_Remaining_Post\n",
    "columns_to_keep = [\"Drive\",\"qtr\",\"down\",\"yrdline100\",\"ydstogo\",\"ydsnet\",\"GoalToGo\",\"FirstDown\",\"posteam\",\"DefensiveTeam\",\n",
    "                  \"Yards.Gained\",\"PlayType\",\"Passer\",\"PassOutcome\",\"PassLength\",\"AirYards\",\"Receiver\",\"posteam_timeouts_pre\",\n",
    "                  \"HomeTimeouts_Remaining_Pre\",\"AwayTimeouts_Remaining_Pre\",\"HomeTimeouts_Remaining_Post\",\"AwayTimeouts_Remaining_Post\"]\n",
    "target = [\"PassLocation\"] #, \"RunLocation\"]\n",
    "\n",
    "df = data_df[columns_to_keep+target]\n",
    "df.dropna(axis=0, how='any', subset=[\"PassLocation\"], inplace=True)\n",
    "X = df[columns_to_keep].values\n",
    "y = df[target].values\n",
    "\n"
   ]
  },
  {
   "cell_type": "code",
   "execution_count": null,
   "metadata": {},
   "outputs": [],
   "source": []
  }
 ],
 "metadata": {
  "kernelspec": {
   "display_name": "Python 3",
   "language": "python",
   "name": "python3"
  },
  "language_info": {
   "codemirror_mode": {
    "name": "ipython",
    "version": 3
   },
   "file_extension": ".py",
   "mimetype": "text/x-python",
   "name": "python",
   "nbconvert_exporter": "python",
   "pygments_lexer": "ipython3",
   "version": "3.6.5"
  }
 },
 "nbformat": 4,
 "nbformat_minor": 2
}
